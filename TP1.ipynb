{
  "nbformat": 4,
  "nbformat_minor": 0,
  "metadata": {
    "colab": {
      "provenance": [],
      "authorship_tag": "ABX9TyMXaRP9cvgE5lLCOhjNnc/d",
      "include_colab_link": true
    },
    "kernelspec": {
      "name": "python3",
      "display_name": "Python 3"
    },
    "language_info": {
      "name": "python"
    }
  },
  "cells": [
    {
      "cell_type": "markdown",
      "metadata": {
        "id": "view-in-github",
        "colab_type": "text"
      },
      "source": [
        "<a href=\"https://colab.research.google.com/github/NabilNkhili/Doc_Structur-s/blob/main/TP1.ipynb\" target=\"_parent\"><img src=\"https://colab.research.google.com/assets/colab-badge.svg\" alt=\"Open In Colab\"/></a>"
      ]
    },
    {
      "cell_type": "code",
      "execution_count": 2,
      "metadata": {
        "id": "NWkAPtpmM_Bn",
        "colab": {
          "base_uri": "https://localhost:8080/"
        },
        "outputId": "8a964e88-9092-41b0-f46f-d06896a9baf9"
      },
      "outputs": [
        {
          "output_type": "stream",
          "name": "stdout",
          "text": [
            "Index inversé :\n",
            "citizen: ['D0']\n",
            "kane: ['D0']\n",
            "casablanca: ['D1']\n",
            "the: ['D2', 'D3', 'D5', 'D6', 'D7', 'D9']\n",
            "godfather: ['D2']\n",
            "gone: ['D3']\n",
            "with: ['D3']\n",
            "wind: ['D3']\n",
            "lawrence: ['D4']\n",
            "of: ['D4', 'D5']\n",
            "arabia: ['D4']\n",
            "wizard: ['D5']\n",
            "oz: ['D5']\n",
            "graduate: ['D6']\n",
            "on: ['D7']\n",
            "waterfront: ['D7']\n",
            "schindler's: ['D8']\n",
            "list: ['D8']\n",
            "singin': ['D9']\n",
            "in: ['D9']\n",
            "rain: ['D9']\n",
            "\n",
            "Matrice d'incidence :\n",
            "             D0  D1  D2  D3  D4  D5  D6  D7  D8  D9\n",
            "arabia        0   0   0   0   1   0   0   0   0   0\n",
            "casablanca    0   1   0   0   0   0   0   0   0   0\n",
            "citizen       1   0   0   0   0   0   0   0   0   0\n",
            "godfather     0   0   1   0   0   0   0   0   0   0\n",
            "gone          0   0   0   1   0   0   0   0   0   0\n",
            "graduate      0   0   0   0   0   0   1   0   0   0\n",
            "in            0   0   0   0   0   0   0   0   0   1\n",
            "kane          1   0   0   0   0   0   0   0   0   0\n",
            "lawrence      0   0   0   0   1   0   0   0   0   0\n",
            "list          0   0   0   0   0   0   0   0   1   0\n",
            "of            0   0   0   0   1   1   0   0   0   0\n",
            "on            0   0   0   0   0   0   0   1   0   0\n",
            "oz            0   0   0   0   0   1   0   0   0   0\n",
            "rain          0   0   0   0   0   0   0   0   0   1\n",
            "schindler's   0   0   0   0   0   0   0   0   1   0\n",
            "singin'       0   0   0   0   0   0   0   0   0   1\n",
            "the           0   0   1   1   0   1   1   1   0   1\n",
            "waterfront    0   0   0   0   0   0   0   1   0   0\n",
            "wind          0   0   0   1   0   0   0   0   0   0\n",
            "with          0   0   0   1   0   0   0   0   0   0\n",
            "wizard        0   0   0   0   0   1   0   0   0   0\n",
            "\n",
            "Documents correspondant à la requête AND ['the', 'wizard'] : ['D5']\n"
          ]
        }
      ],
      "source": [
        "# Exemple Python pour construire un index inversé et une matrice d'incidence\n",
        "\n",
        "# Collection de documents (similaire à celle mentionnée dans le TP)\n",
        "documents = {\n",
        "    \"D0\": \"Citizen Kane\",\n",
        "    \"D1\": \"Casablanca\",\n",
        "    \"D2\": \"The Godfather The Godfather\",\n",
        "    \"D3\": \"Gone with the Wind\",\n",
        "    \"D4\": \"Lawrence of Arabia\",\n",
        "    \"D5\": \"The Wizard of Oz The Wizard of Oz\",\n",
        "    \"D6\": \"The Graduate\",\n",
        "    \"D7\": \"On the Waterfront\",\n",
        "    \"D8\": \"Schindler's List\",\n",
        "    \"D9\": \"Singin' in the Rain\",\n",
        "}\n",
        "\n",
        "# Construction de l'index inversé\n",
        "from collections import defaultdict\n",
        "import pandas as pd\n",
        "\n",
        "def build_inverted_index(docs):\n",
        "    inverted_index = defaultdict(list)  # Initialise un dictionnaire avec des listes vides\n",
        "    for doc_id, content in docs.items():  # Parcourt chaque document\n",
        "        terms = content.lower().split()  # Conversion en minuscules et découpage en mots\n",
        "        for term in terms:  # Parcourt chaque mot du document\n",
        "            if doc_id not in inverted_index[term]:  # Évite les doublons\n",
        "                inverted_index[term].append(doc_id)  # Ajoute le document au terme correspondant\n",
        "    return inverted_index\n",
        "\n",
        "# Création de l'index inversé\n",
        "inverted_index = build_inverted_index(documents)\n",
        "\n",
        "# Affichage de l'index inversé\n",
        "print(\"Index inversé :\")\n",
        "for term, postings in inverted_index.items():\n",
        "    print(f\"{term}: {postings}\")\n",
        "\n",
        "# Construction de la matrice d'incidence\n",
        "def build_incidence_matrix(docs, inverted_index):\n",
        "    terms = sorted(inverted_index.keys())  # Trie les termes dans l'ordre alphabétique\n",
        "    matrix = pd.DataFrame(0, index=terms, columns=docs.keys())  # Initialise une matrice remplie de zéros\n",
        "    for term in terms:  # Parcourt chaque terme\n",
        "        for doc_id in inverted_index[term]:  # Parcourt les documents associés au terme\n",
        "            matrix.at[term, doc_id] = 1  # Marque 1 si le terme est présent dans le document\n",
        "    return matrix\n",
        "\n",
        "\n",
        "# Création de la matrice d'incidence\n",
        "incidence_matrix = build_incidence_matrix(documents, inverted_index)\n",
        "\n",
        "# Affichage de la matrice d'incidence\n",
        "print(\"\\nMatrice d'incidence :\")\n",
        "print(incidence_matrix)\n",
        "\n",
        "# Exemple de recherche booléenne simple (AND)\n",
        "def boolean_and(query_terms, inverted_index):\n",
        "    result = set(inverted_index[query_terms[0]])\n",
        "    for term in query_terms[1:]:\n",
        "        result &= set(inverted_index.get(term, []))\n",
        "    return sorted(result)\n",
        "\n",
        "# Exemple de requête AND : \"the AND wizard\"\n",
        "query = [\"the\", \"wizard\"]\n",
        "result = boolean_and(query, inverted_index)\n",
        "print(f\"\\nDocuments correspondant à la requête AND {query} : {result}\")\n"
      ]
    }
  ]
}